{
 "cells": [
  {
   "cell_type": "code",
   "execution_count": 2,
   "id": "capital-default",
   "metadata": {},
   "outputs": [
    {
     "name": "stdout",
     "output_type": "stream",
     "text": [
      "是工作日\n",
      "当前为交易时间\n",
      "Point(x=296, y=271)\n",
      "Point(x=296, y=271)\n",
      "Point(x=807, y=171)\n",
      "登录成功了.\n"
     ]
    }
   ],
   "source": [
    "import pyautogui\n",
    "import os,time\n",
    "import datetime\n",
    "from chinese_calendar import is_workday\n",
    "#os.environ['DISPLAY'] = ':0'\n",
    "\n",
    "def open_trade():\n",
    "\n",
    "    anchor_loc = pyautogui.locateCenterOnScreen('/root/Q7.png')\n",
    "    print(anchor_loc)\n",
    "    if anchor_loc == None:\n",
    "        anchor_loc = pyautogui.locateCenterOnScreen('/root/Q7bak.png')  \n",
    "    print(anchor_loc)\n",
    "    pyautogui.click(anchor_loc)\n",
    "    pyautogui.press( 'enter' )\n",
    "    pyautogui.press( 'enter' )\n",
    "\n",
    "    time.sleep(15)\n",
    "    pyautogui.write(\"830335253\")\n",
    "    pyautogui.press( 'enter' )\n",
    "    time.sleep(15)\n",
    "    login = pyautogui.locateCenterOnScreen('/root/login.png')\n",
    "    if login is not None:\n",
    "        print(login)\n",
    "        print(\"登录成功了.\")\n",
    "    else:\n",
    "        print(\"登录失败,结束进程..\")\n",
    "        os.system('killall q7_release.exe')\n",
    "\n",
    "\n",
    "date = datetime.datetime.now().date()\n",
    "h = int(time.strftime(\"%H\"))  \n",
    "if is_workday(date):\n",
    "    print(\"是工作日\")\n",
    "    if h >= 9 and h <= 15  or h >= 21 and h <= 23 :\n",
    "        print(\"当前为交易时间\")\n",
    "        process = os.popen(\"ps -x |grep q7\")\n",
    "        txt = process.read()\n",
    "        if 'q7_release.exe' in txt :\n",
    "            print(\"进程已经存在了\")\n",
    "        else:\n",
    "            open_trade()   #如果进程不存在并且在交易时间内就再次打开。\n",
    "            pyautogui.moveTo(233,755)\n",
    "            pyautogui.click() \n",
    "            \n",
    "        \n",
    "        \n",
    "\n",
    "else:\n",
    "    print(\"是休息日\")\n",
    "    if h > 9 and h < 17  or h > 21 and h < 23 :\n",
    "        print(\"当前为交易时间\")\n",
    "        process = os.popen(\"ps -x |grep q7\")\n",
    "        txt = process.read()\n",
    "        if 'q7_release.exe' in txt :\n",
    "            print(\"进程已经存在了\")\n",
    "        else:\n",
    "            print(\"进程不存在，正在打开。\")\n",
    "            open_trade()   #如果进程不存在并且在交易时间内就再次打开。\n",
    "            pyautogui.moveTo(233,755)\n",
    "            pyautogui.click() \n",
    "            \n",
    "            \n",
    "            \n",
    "        \n",
    "\n",
    "\n",
    "        \n",
    "\n",
    "\n",
    "    \n"
   ]
  },
  {
   "cell_type": "markdown",
   "id": "greenhouse-aquatic",
   "metadata": {},
   "source": [
    "### "
   ]
  },
  {
   "cell_type": "code",
   "execution_count": null,
   "id": "settled-prophet",
   "metadata": {},
   "outputs": [],
   "source": [
    "\n"
   ]
  },
  {
   "cell_type": "code",
   "execution_count": null,
   "id": "after-disney",
   "metadata": {},
   "outputs": [],
   "source": []
  },
  {
   "cell_type": "code",
   "execution_count": null,
   "id": "comfortable-learning",
   "metadata": {},
   "outputs": [],
   "source": []
  },
  {
   "cell_type": "code",
   "execution_count": null,
   "id": "atlantic-florence",
   "metadata": {},
   "outputs": [],
   "source": []
  }
 ],
 "metadata": {
  "kernelspec": {
   "display_name": "Python 3",
   "language": "python",
   "name": "python3"
  },
  "language_info": {
   "codemirror_mode": {
    "name": "ipython",
    "version": 3
   },
   "file_extension": ".py",
   "mimetype": "text/x-python",
   "name": "python",
   "nbconvert_exporter": "python",
   "pygments_lexer": "ipython3",
   "version": "3.7.3"
  }
 },
 "nbformat": 4,
 "nbformat_minor": 5
}
